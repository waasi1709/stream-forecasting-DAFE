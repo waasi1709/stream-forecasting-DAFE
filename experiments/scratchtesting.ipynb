{
 "cells": [
  {
   "cell_type": "code",
   "execution_count": 3,
   "id": "f299e591",
   "metadata": {},
   "outputs": [],
   "source": [
    "import sys\n",
    "import os\n",
    "\n",
    "# Adds the parent directory of the notebook to the path\n",
    "PROJECT_ROOT = os.path.abspath(\"..\")  # adjust path as needed\n",
    "if PROJECT_ROOT not in sys.path:\n",
    "    sys.path.append(PROJECT_ROOT)\n"
   ]
  },
  {
   "cell_type": "code",
   "execution_count": 1,
   "id": "8e15fe82",
   "metadata": {},
   "outputs": [],
   "source": [
    "import sys\n",
    "import os\n",
    "sys.path.append(os.path.abspath(\"..\"))  # Adjust if notebook is elsewhere\n"
   ]
  },
  {
   "cell_type": "code",
   "execution_count": 3,
   "id": "1f55c762",
   "metadata": {},
   "outputs": [
    {
     "name": "stdout",
     "output_type": "stream",
     "text": [
      "Ticker: AAPL\n",
      "        date    PRC       VOL\n",
      "0 2009-01-02  90.75  28014289\n",
      "1 2009-01-05  94.58  41844475\n",
      "2 2009-01-06  93.02  47875392\n",
      "3 2009-01-07  91.01  27744415\n",
      "4 2009-01-08  92.70  24662123\n"
     ]
    }
   ],
   "source": [
    "import pandas as pd\n",
    "from utils.BatchProcessor import create_ticker_batches\n",
    "from stream.simulated_stream import SimulatedStream\n",
    "\n",
    "\n",
    "\n",
    "df = pd.read_csv(\"../data/SampleCRSPData.csv\")  # adjust if needed\n",
    "\n",
    "batches = create_ticker_batches(df, batch_days=5)\n",
    "df_batches = pd.DataFrame(batches)\n",
    "\n",
    "stream = SimulatedStream(df_batches, delay=0).stream()\n",
    "\n",
    "for batch in stream:\n",
    "    print(f\"Ticker: {batch['ticker']}\")\n",
    "    print(batch['data'][['date', 'PRC', 'VOL']].head())\n",
    "    break  # remove break to keep streaming\n"
   ]
  },
  {
   "cell_type": "code",
   "execution_count": 20,
   "id": "3d3211d1",
   "metadata": {},
   "outputs": [
    {
     "name": "stdout",
     "output_type": "stream",
     "text": [
      "['__builtins__', '__cached__', '__doc__', '__file__', '__loader__', '__name__', '__package__', '__spec__']\n"
     ]
    }
   ],
   "source": [
    "import stream.simulated_stream as ss\n",
    "print(dir(ss))\n"
   ]
  },
  {
   "cell_type": "code",
   "execution_count": 5,
   "id": "e1cf745d",
   "metadata": {},
   "outputs": [
    {
     "name": "stdout",
     "output_type": "stream",
     "text": [
      "Ticker: AAPL\n",
      "        date    PRC       VOL\n",
      "0 2009-01-16  82.33  38279836\n",
      "1 2009-01-20  78.20  33469742\n",
      "2 2009-01-21  82.83  40142258\n",
      "3 2009-01-22  88.36  51367867\n",
      "4 2009-01-23  88.36  28005540\n",
      "Ticker: AAPL\n",
      "        date    PRC       VOL\n",
      "0 2009-01-26  89.64  25536811\n",
      "1 2009-01-27  90.73  22523818\n",
      "2 2009-01-28  94.20  32011582\n",
      "3 2009-01-29  93.00  21620933\n",
      "4 2009-01-30  90.13  23710024\n",
      "Ticker: AAPL\n",
      "        date    PRC       VOL\n",
      "0 2009-02-02  91.51  20467836\n",
      "1 2009-02-03  92.98  22060013\n",
      "2 2009-02-04  93.55  30056554\n",
      "3 2009-02-05  96.46  27645701\n",
      "4 2009-02-06  99.72  25337716\n",
      "Ticker: AAPL\n",
      "        date     PRC       VOL\n",
      "0 2009-02-09  102.51  26423565\n",
      "1 2009-02-10   97.83  31618587\n",
      "2 2009-02-11   96.82  25070903\n",
      "3 2009-02-12   99.27  30272806\n",
      "4 2009-02-13   99.16  22433175\n",
      "Ticker: AAPL\n",
      "        date    PRC       VOL\n",
      "0 2009-02-17  94.53  25078893\n",
      "1 2009-02-18  94.37  25115332\n",
      "2 2009-02-19  90.64  33926945\n",
      "3 2009-02-20  91.20  28440805\n",
      "4 2009-02-23  86.95  29622983\n",
      "Ticker: AAPL\n",
      "        date    PRC       VOL\n",
      "0 2009-02-24  90.25  30340498\n",
      "1 2009-02-25  91.16  31196133\n",
      "2 2009-02-26  89.19  23709510\n",
      "3 2009-02-27  89.31  26573363\n",
      "4 2009-03-02  87.94  28900844\n",
      "Ticker: AAPL\n",
      "        date    PRC       VOL\n",
      "0 2009-03-03  88.37  27389295\n",
      "1 2009-03-04  91.17  27721665\n",
      "2 2009-03-05  88.84  26510028\n",
      "3 2009-03-06  85.30  37776065\n",
      "4 2009-03-09  83.11  26092492\n",
      "Ticker: AAPL\n",
      "        date      PRC       VOL\n",
      "0 2009-03-10  88.6275  31167596\n",
      "1 2009-03-11  92.6800  31553949\n",
      "2 2009-03-12  96.3500  28554097\n",
      "3 2009-03-13  95.9300  22435138\n",
      "4 2009-03-16  95.4200  29679984\n"
     ]
    },
    {
     "ename": "KeyboardInterrupt",
     "evalue": "",
     "output_type": "error",
     "traceback": [
      "\u001b[0;31m---------------------------------------------------------------------------\u001b[0m",
      "\u001b[0;31mKeyboardInterrupt\u001b[0m                         Traceback (most recent call last)",
      "Cell \u001b[0;32mIn[5], line 7\u001b[0m\n\u001b[1;32m      5\u001b[0m \u001b[38;5;28mprint\u001b[39m(\u001b[38;5;124mf\u001b[39m\u001b[38;5;124m\"\u001b[39m\u001b[38;5;124mTicker: \u001b[39m\u001b[38;5;132;01m{\u001b[39;00mbatch[\u001b[38;5;124m'\u001b[39m\u001b[38;5;124mticker\u001b[39m\u001b[38;5;124m'\u001b[39m]\u001b[38;5;132;01m}\u001b[39;00m\u001b[38;5;124m\"\u001b[39m, flush\u001b[38;5;241m=\u001b[39m\u001b[38;5;28;01mTrue\u001b[39;00m)\n\u001b[1;32m      6\u001b[0m \u001b[38;5;28mprint\u001b[39m(batch[\u001b[38;5;124m'\u001b[39m\u001b[38;5;124mdata\u001b[39m\u001b[38;5;124m'\u001b[39m][[\u001b[38;5;124m'\u001b[39m\u001b[38;5;124mdate\u001b[39m\u001b[38;5;124m'\u001b[39m, \u001b[38;5;124m'\u001b[39m\u001b[38;5;124mPRC\u001b[39m\u001b[38;5;124m'\u001b[39m, \u001b[38;5;124m'\u001b[39m\u001b[38;5;124mVOL\u001b[39m\u001b[38;5;124m'\u001b[39m]]\u001b[38;5;241m.\u001b[39mhead(), flush\u001b[38;5;241m=\u001b[39m\u001b[38;5;28;01mTrue\u001b[39;00m)\n\u001b[0;32m----> 7\u001b[0m \u001b[43mtime\u001b[49m\u001b[38;5;241;43m.\u001b[39;49m\u001b[43msleep\u001b[49m\u001b[43m(\u001b[49m\u001b[38;5;241;43m20\u001b[39;49m\u001b[43m)\u001b[49m\n",
      "\u001b[0;31mKeyboardInterrupt\u001b[0m: "
     ]
    }
   ],
   "source": [
    "import sys\n",
    "import time\n",
    "\n",
    "for batch in stream:\n",
    "    print(f\"Ticker: {batch['ticker']}\", flush=True)\n",
    "    print(batch['data'][['date', 'PRC', 'VOL']].head(), flush=True)\n",
    "    time.sleep(20)\n"
   ]
  },
  {
   "cell_type": "code",
   "execution_count": 3,
   "id": "42356c11",
   "metadata": {},
   "outputs": [
    {
     "name": "stdout",
     "output_type": "stream",
     "text": [
      "🟢 Ticker: AAPL\n"
     ]
    },
    {
     "data": {
      "text/html": [
       "<div>\n",
       "<style scoped>\n",
       "    .dataframe tbody tr th:only-of-type {\n",
       "        vertical-align: middle;\n",
       "    }\n",
       "\n",
       "    .dataframe tbody tr th {\n",
       "        vertical-align: top;\n",
       "    }\n",
       "\n",
       "    .dataframe thead th {\n",
       "        text-align: right;\n",
       "    }\n",
       "</style>\n",
       "<table border=\"1\" class=\"dataframe\">\n",
       "  <thead>\n",
       "    <tr style=\"text-align: right;\">\n",
       "      <th></th>\n",
       "      <th>date</th>\n",
       "      <th>PRC</th>\n",
       "      <th>VOL</th>\n",
       "    </tr>\n",
       "  </thead>\n",
       "  <tbody>\n",
       "    <tr>\n",
       "      <th>0</th>\n",
       "      <td>2009-03-17</td>\n",
       "      <td>99.66</td>\n",
       "      <td>29338622</td>\n",
       "    </tr>\n",
       "    <tr>\n",
       "      <th>1</th>\n",
       "      <td>2009-03-18</td>\n",
       "      <td>101.52</td>\n",
       "      <td>29478244</td>\n",
       "    </tr>\n",
       "    <tr>\n",
       "      <th>2</th>\n",
       "      <td>2009-03-19</td>\n",
       "      <td>101.62</td>\n",
       "      <td>18568051</td>\n",
       "    </tr>\n",
       "    <tr>\n",
       "      <th>3</th>\n",
       "      <td>2009-03-20</td>\n",
       "      <td>101.59</td>\n",
       "      <td>25594662</td>\n",
       "    </tr>\n",
       "    <tr>\n",
       "      <th>4</th>\n",
       "      <td>2009-03-23</td>\n",
       "      <td>107.66</td>\n",
       "      <td>24617528</td>\n",
       "    </tr>\n",
       "  </tbody>\n",
       "</table>\n",
       "</div>"
      ],
      "text/plain": [
       "        date     PRC       VOL\n",
       "0 2009-03-17   99.66  29338622\n",
       "1 2009-03-18  101.52  29478244\n",
       "2 2009-03-19  101.62  18568051\n",
       "3 2009-03-20  101.59  25594662\n",
       "4 2009-03-23  107.66  24617528"
      ]
     },
     "metadata": {},
     "output_type": "display_data"
    },
    {
     "ename": "KeyboardInterrupt",
     "evalue": "",
     "output_type": "error",
     "traceback": [
      "\u001b[0;31m---------------------------------------------------------------------------\u001b[0m",
      "\u001b[0;31mKeyboardInterrupt\u001b[0m                         Traceback (most recent call last)",
      "Cell \u001b[0;32mIn[3], line 20\u001b[0m\n\u001b[1;32m     17\u001b[0m stream \u001b[38;5;241m=\u001b[39m get_stream(source_type\u001b[38;5;241m=\u001b[39m\u001b[38;5;124m\"\u001b[39m\u001b[38;5;124msimulated\u001b[39m\u001b[38;5;124m\"\u001b[39m, df\u001b[38;5;241m=\u001b[39mdf_batches, delay\u001b[38;5;241m=\u001b[39m\u001b[38;5;241m2\u001b[39m)\n\u001b[1;32m     19\u001b[0m \u001b[38;5;66;03m# Step 4: Stream and display each batch\u001b[39;00m\n\u001b[0;32m---> 20\u001b[0m \u001b[38;5;28;01mfor\u001b[39;00m batch \u001b[38;5;129;01min\u001b[39;00m stream:\n\u001b[1;32m     21\u001b[0m     clear_output(wait\u001b[38;5;241m=\u001b[39m\u001b[38;5;28;01mTrue\u001b[39;00m)\n\u001b[1;32m     22\u001b[0m     \u001b[38;5;28mprint\u001b[39m(\u001b[38;5;124mf\u001b[39m\u001b[38;5;124m\"\u001b[39m\u001b[38;5;124m🟢 Ticker: \u001b[39m\u001b[38;5;132;01m{\u001b[39;00mbatch[\u001b[38;5;124m'\u001b[39m\u001b[38;5;124mticker\u001b[39m\u001b[38;5;124m'\u001b[39m]\u001b[38;5;132;01m}\u001b[39;00m\u001b[38;5;124m\"\u001b[39m)\n",
      "File \u001b[0;32m~/stream-forecasting-DAFE/stream/simulated_stream.py:17\u001b[0m, in \u001b[0;36mSimulatedStream.stream\u001b[0;34m(self)\u001b[0m\n\u001b[1;32m     15\u001b[0m \u001b[38;5;28;01myield\u001b[39;00m row  \u001b[38;5;66;03m# row is a pandas Series (row of features)\u001b[39;00m\n\u001b[1;32m     16\u001b[0m \u001b[38;5;28;01mif\u001b[39;00m \u001b[38;5;28mself\u001b[39m\u001b[38;5;241m.\u001b[39mdelay \u001b[38;5;241m>\u001b[39m \u001b[38;5;241m0\u001b[39m:\n\u001b[0;32m---> 17\u001b[0m     \u001b[43mtime\u001b[49m\u001b[38;5;241;43m.\u001b[39;49m\u001b[43msleep\u001b[49m\u001b[43m(\u001b[49m\u001b[38;5;28;43mself\u001b[39;49m\u001b[38;5;241;43m.\u001b[39;49m\u001b[43mdelay\u001b[49m\u001b[43m)\u001b[49m\n",
      "\u001b[0;31mKeyboardInterrupt\u001b[0m: "
     ]
    }
   ],
   "source": [
    "import pandas as pd\n",
    "import time\n",
    "from IPython.display import clear_output, display\n",
    "from stream.stream_manager import get_stream\n",
    "from utils.BatchProcessor import create_ticker_batches\n",
    "\n",
    "\n",
    "\n",
    "# Step 1: Load raw CRSP data\n",
    "df = pd.read_csv(\"../data/SampleCRSPData.csv\")\n",
    "\n",
    "# Step 2: Preprocess into 5-day batches per TICKER\n",
    "batches = create_ticker_batches(df, batch_days=5)\n",
    "df_batches = pd.DataFrame(batches)\n",
    "\n",
    "# Step 3: Get the stream using stream_manager\n",
    "stream = get_stream(source_type=\"simulated\", df=df_batches, delay=2)\n",
    "\n",
    "# Step 4: Stream and display each batch\n",
    "for batch in stream:\n",
    "    clear_output(wait=True)\n",
    "    print(f\"🟢 Ticker: {batch['ticker']}\")\n",
    "    display(batch['data'][['date', 'PRC', 'VOL']])\n",
    "    time.sleep(2)  # Set to 2 sec for testing, change to 20 in prod\n"
   ]
  },
  {
   "cell_type": "code",
   "execution_count": null,
   "id": "10690647",
   "metadata": {},
   "outputs": [
    {
     "name": "stdout",
     "output_type": "stream",
     "text": [
      "📈 New Price Update\n"
     ]
    },
    {
     "data": {
      "text/plain": [
       "Price   Ticker\n",
       "Open    AAPL      2.178900e+02\n",
       "High    AAPL      2.179400e+02\n",
       "Low     AAPL      2.176800e+02\n",
       "Close   AAPL      2.178800e+02\n",
       "Volume  AAPL      1.217484e+06\n",
       "Name: 2025-03-28 19:59:00+00:00, dtype: float64"
      ]
     },
     "metadata": {},
     "output_type": "display_data"
    }
   ],
   "source": [
    "!pip install yfinance\n",
    "\n",
    "from stream.stream_manager import get_stream\n",
    "from utils.helpers import fetch_latest_price  \n",
    "\n",
    "stream = get_stream(\n",
    "    source_type=\"api\",\n",
    "    fetch_fn=lambda: fetch_latest_price(\"AAPL\", interval=\"1m\"),\n",
    "    polling_interval=60  # poll every 60 seconds\n",
    ")\n",
    "\n",
    "from IPython.display import clear_output, display\n",
    "\n",
    "for row in stream:\n",
    "    clear_output(wait=True)\n",
    "    print(\"📈 New Price Update\")\n",
    "    display(row[[\"Open\", \"High\", \"Low\", \"Close\", \"Volume\"]])\n"
   ]
  },
  {
   "cell_type": "code",
   "execution_count": null,
   "id": "f08f11a3",
   "metadata": {},
   "outputs": [],
   "source": []
  }
 ],
 "metadata": {
  "kernelspec": {
   "display_name": "Python 3",
   "language": "python",
   "name": "python3"
  },
  "language_info": {
   "codemirror_mode": {
    "name": "ipython",
    "version": 3
   },
   "file_extension": ".py",
   "mimetype": "text/x-python",
   "name": "python",
   "nbconvert_exporter": "python",
   "pygments_lexer": "ipython3",
   "version": "3.10.15"
  }
 },
 "nbformat": 4,
 "nbformat_minor": 5
}
