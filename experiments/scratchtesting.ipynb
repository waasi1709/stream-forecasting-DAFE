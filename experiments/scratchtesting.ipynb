{
 "cells": [
  {
   "cell_type": "code",
   "execution_count": 1,
   "id": "f299e591",
   "metadata": {},
   "outputs": [],
   "source": [
    "import sys\n",
    "import os\n",
    "\n",
    "# Adds the parent directory of the notebook to the path\n",
    "PROJECT_ROOT = os.path.abspath(\"..\")  # adjust path as needed\n",
    "if PROJECT_ROOT not in sys.path:\n",
    "    sys.path.append(PROJECT_ROOT)\n"
   ]
  },
  {
   "cell_type": "code",
   "execution_count": 2,
   "id": "8e15fe82",
   "metadata": {},
   "outputs": [],
   "source": [
    "import sys\n",
    "import os\n",
    "sys.path.append(os.path.abspath(\"..\"))  # Adjust if notebook is elsewhere\n"
   ]
  },
  {
   "cell_type": "code",
   "execution_count": 5,
   "id": "1f55c762",
   "metadata": {},
   "outputs": [
    {
     "name": "stdout",
     "output_type": "stream",
     "text": [
      "Ticker: AAPL\n",
      "        date    PRC       VOL\n",
      "0 2009-01-02  90.75  28014289\n",
      "1 2009-01-05  94.58  41844475\n",
      "2 2009-01-06  93.02  47875392\n",
      "3 2009-01-07  91.01  27744415\n",
      "4 2009-01-08  92.70  24662123\n"
     ]
    }
   ],
   "source": [
    "import pandas as pd\n",
    "from utils.helpers import create_ticker_batches\n",
    "from stream.simulated_stream import SimulatedStream\n",
    "\n",
    "\n",
    "\n",
    "df = pd.read_csv(\"../data/SampleCRSPData.csv\")  # adjust if needed\n",
    "\n",
    "batches = create_ticker_batches(df, batch_days=5)\n",
    "df_batches = pd.DataFrame(batches)\n",
    "\n",
    "stream = SimulatedStream(df_batches, delay=0).stream()\n",
    "\n",
    "for batch in stream:\n",
    "    print(f\"Ticker: {batch['ticker']}\")\n",
    "    print(batch['data'][['date', 'PRC', 'VOL']].head())\n",
    "    break  # remove break to keep streaming\n"
   ]
  },
  {
   "cell_type": "code",
   "execution_count": 6,
   "id": "3d3211d1",
   "metadata": {},
   "outputs": [
    {
     "name": "stdout",
     "output_type": "stream",
     "text": [
      "['BaseStream', 'SimulatedStream', '__builtins__', '__cached__', '__doc__', '__file__', '__loader__', '__name__', '__package__', '__spec__', 'pd', 'time']\n"
     ]
    }
   ],
   "source": [
    "import stream.simulated_stream as ss\n",
    "print(dir(ss))\n"
   ]
  },
  {
   "cell_type": "code",
   "execution_count": 7,
   "id": "e1cf745d",
   "metadata": {},
   "outputs": [
    {
     "name": "stdout",
     "output_type": "stream",
     "text": [
      "Ticker: AAPL\n",
      "        date    PRC       VOL\n",
      "0 2009-01-09  90.58  20110229\n",
      "1 2009-01-12  88.66  22611994\n",
      "2 2009-01-13  87.71  29403654\n",
      "3 2009-01-14  85.33  39488108\n",
      "4 2009-01-15  83.38  54368846\n"
     ]
    },
    {
     "ename": "KeyboardInterrupt",
     "evalue": "",
     "output_type": "error",
     "traceback": [
      "\u001b[0;31m---------------------------------------------------------------------------\u001b[0m",
      "\u001b[0;31mKeyboardInterrupt\u001b[0m                         Traceback (most recent call last)",
      "Cell \u001b[0;32mIn[7], line 7\u001b[0m\n\u001b[1;32m      5\u001b[0m \u001b[38;5;28mprint\u001b[39m(\u001b[38;5;124mf\u001b[39m\u001b[38;5;124m\"\u001b[39m\u001b[38;5;124mTicker: \u001b[39m\u001b[38;5;132;01m{\u001b[39;00mbatch[\u001b[38;5;124m'\u001b[39m\u001b[38;5;124mticker\u001b[39m\u001b[38;5;124m'\u001b[39m]\u001b[38;5;132;01m}\u001b[39;00m\u001b[38;5;124m\"\u001b[39m, flush\u001b[38;5;241m=\u001b[39m\u001b[38;5;28;01mTrue\u001b[39;00m)\n\u001b[1;32m      6\u001b[0m \u001b[38;5;28mprint\u001b[39m(batch[\u001b[38;5;124m'\u001b[39m\u001b[38;5;124mdata\u001b[39m\u001b[38;5;124m'\u001b[39m][[\u001b[38;5;124m'\u001b[39m\u001b[38;5;124mdate\u001b[39m\u001b[38;5;124m'\u001b[39m, \u001b[38;5;124m'\u001b[39m\u001b[38;5;124mPRC\u001b[39m\u001b[38;5;124m'\u001b[39m, \u001b[38;5;124m'\u001b[39m\u001b[38;5;124mVOL\u001b[39m\u001b[38;5;124m'\u001b[39m]]\u001b[38;5;241m.\u001b[39mhead(), flush\u001b[38;5;241m=\u001b[39m\u001b[38;5;28;01mTrue\u001b[39;00m)\n\u001b[0;32m----> 7\u001b[0m \u001b[43mtime\u001b[49m\u001b[38;5;241;43m.\u001b[39;49m\u001b[43msleep\u001b[49m\u001b[43m(\u001b[49m\u001b[38;5;241;43m20\u001b[39;49m\u001b[43m)\u001b[49m\n",
      "\u001b[0;31mKeyboardInterrupt\u001b[0m: "
     ]
    }
   ],
   "source": [
    "import sys\n",
    "import time\n",
    "\n",
    "for batch in stream:\n",
    "    print(f\"Ticker: {batch['ticker']}\", flush=True)\n",
    "    print(batch['data'][['date', 'PRC', 'VOL']].head(), flush=True)\n",
    "    time.sleep(20)\n"
   ]
  },
  {
   "cell_type": "code",
   "execution_count": 25,
   "id": "42356c11",
   "metadata": {},
   "outputs": [
    {
     "name": "stdout",
     "output_type": "stream",
     "text": [
      "🟢 Ticker: AAPL\n"
     ]
    },
    {
     "data": {
      "text/html": [
       "<div>\n",
       "<style scoped>\n",
       "    .dataframe tbody tr th:only-of-type {\n",
       "        vertical-align: middle;\n",
       "    }\n",
       "\n",
       "    .dataframe tbody tr th {\n",
       "        vertical-align: top;\n",
       "    }\n",
       "\n",
       "    .dataframe thead th {\n",
       "        text-align: right;\n",
       "    }\n",
       "</style>\n",
       "<table border=\"1\" class=\"dataframe\">\n",
       "  <thead>\n",
       "    <tr style=\"text-align: right;\">\n",
       "      <th></th>\n",
       "      <th>date</th>\n",
       "      <th>PRC</th>\n",
       "      <th>VOL</th>\n",
       "    </tr>\n",
       "  </thead>\n",
       "  <tbody>\n",
       "    <tr>\n",
       "      <th>0</th>\n",
       "      <td>2009-01-09</td>\n",
       "      <td>90.58</td>\n",
       "      <td>20110229</td>\n",
       "    </tr>\n",
       "    <tr>\n",
       "      <th>1</th>\n",
       "      <td>2009-01-12</td>\n",
       "      <td>88.66</td>\n",
       "      <td>22611994</td>\n",
       "    </tr>\n",
       "    <tr>\n",
       "      <th>2</th>\n",
       "      <td>2009-01-13</td>\n",
       "      <td>87.71</td>\n",
       "      <td>29403654</td>\n",
       "    </tr>\n",
       "    <tr>\n",
       "      <th>3</th>\n",
       "      <td>2009-01-14</td>\n",
       "      <td>85.33</td>\n",
       "      <td>39488108</td>\n",
       "    </tr>\n",
       "    <tr>\n",
       "      <th>4</th>\n",
       "      <td>2009-01-15</td>\n",
       "      <td>83.38</td>\n",
       "      <td>54368846</td>\n",
       "    </tr>\n",
       "  </tbody>\n",
       "</table>\n",
       "</div>"
      ],
      "text/plain": [
       "        date    PRC       VOL\n",
       "0 2009-01-09  90.58  20110229\n",
       "1 2009-01-12  88.66  22611994\n",
       "2 2009-01-13  87.71  29403654\n",
       "3 2009-01-14  85.33  39488108\n",
       "4 2009-01-15  83.38  54368846"
      ]
     },
     "metadata": {},
     "output_type": "display_data"
    },
    {
     "ename": "KeyboardInterrupt",
     "evalue": "",
     "output_type": "error",
     "traceback": [
      "\u001b[0;31m---------------------------------------------------------------------------\u001b[0m",
      "\u001b[0;31mKeyboardInterrupt\u001b[0m                         Traceback (most recent call last)",
      "Cell \u001b[0;32mIn[25], line 20\u001b[0m\n\u001b[1;32m     17\u001b[0m stream \u001b[38;5;241m=\u001b[39m get_stream(source_type\u001b[38;5;241m=\u001b[39m\u001b[38;5;124m\"\u001b[39m\u001b[38;5;124msimulated\u001b[39m\u001b[38;5;124m\"\u001b[39m, df\u001b[38;5;241m=\u001b[39mdf_batches, delay\u001b[38;5;241m=\u001b[39m\u001b[38;5;241m2\u001b[39m)\n\u001b[1;32m     19\u001b[0m \u001b[38;5;66;03m# Step 4: Stream and display each batch\u001b[39;00m\n\u001b[0;32m---> 20\u001b[0m \u001b[38;5;28;01mfor\u001b[39;00m batch \u001b[38;5;129;01min\u001b[39;00m stream:\n\u001b[1;32m     21\u001b[0m     clear_output(wait\u001b[38;5;241m=\u001b[39m\u001b[38;5;28;01mTrue\u001b[39;00m)\n\u001b[1;32m     22\u001b[0m     \u001b[38;5;28mprint\u001b[39m(\u001b[38;5;124mf\u001b[39m\u001b[38;5;124m\"\u001b[39m\u001b[38;5;124m🟢 Ticker: \u001b[39m\u001b[38;5;132;01m{\u001b[39;00mbatch[\u001b[38;5;124m'\u001b[39m\u001b[38;5;124mticker\u001b[39m\u001b[38;5;124m'\u001b[39m]\u001b[38;5;132;01m}\u001b[39;00m\u001b[38;5;124m\"\u001b[39m)\n",
      "File \u001b[0;32m~/stream-forecasting-DAFE/stream/simulated_stream.py:17\u001b[0m, in \u001b[0;36mSimulatedStream.stream\u001b[0;34m(self)\u001b[0m\n\u001b[1;32m     15\u001b[0m \u001b[38;5;28;01myield\u001b[39;00m row  \u001b[38;5;66;03m# row is a pandas Series (row of features)\u001b[39;00m\n\u001b[1;32m     16\u001b[0m \u001b[38;5;28;01mif\u001b[39;00m \u001b[38;5;28mself\u001b[39m\u001b[38;5;241m.\u001b[39mdelay \u001b[38;5;241m>\u001b[39m \u001b[38;5;241m0\u001b[39m:\n\u001b[0;32m---> 17\u001b[0m     \u001b[43mtime\u001b[49m\u001b[38;5;241;43m.\u001b[39;49m\u001b[43msleep\u001b[49m\u001b[43m(\u001b[49m\u001b[38;5;28;43mself\u001b[39;49m\u001b[38;5;241;43m.\u001b[39;49m\u001b[43mdelay\u001b[49m\u001b[43m)\u001b[49m\n",
      "\u001b[0;31mKeyboardInterrupt\u001b[0m: "
     ]
    }
   ],
   "source": [
    "import pandas as pd\n",
    "import time\n",
    "from IPython.display import clear_output, display\n",
    "from stream.stream_manager import get_stream\n",
    "from utils.helpers import create_ticker_batches\n",
    "\n",
    "\n",
    "\n",
    "# Step 1: Load raw CRSP data\n",
    "df = pd.read_csv(\"../data/SampleCRSPData.csv\")\n",
    "\n",
    "# Step 2: Preprocess into 5-day batches per TICKER\n",
    "batches = create_ticker_batches(df, batch_days=5)\n",
    "df_batches = pd.DataFrame(batches)\n",
    "\n",
    "# Step 3: Get the stream using stream_manager\n",
    "stream = get_stream(source_type=\"simulated\", df=df_batches, delay=2)\n",
    "\n",
    "# Step 4: Stream and display each batch\n",
    "for batch in stream:\n",
    "    clear_output(wait=True)\n",
    "    print(f\"🟢 Ticker: {batch['ticker']}\")\n",
    "    display(batch['data'][['date', 'PRC', 'VOL']])\n",
    "    time.sleep(2)  # Set to 2 sec for testing, change to 20 in prod\n"
   ]
  },
  {
   "cell_type": "code",
   "execution_count": 10,
   "id": "10690647",
   "metadata": {},
   "outputs": [
    {
     "name": "stdout",
     "output_type": "stream",
     "text": [
      "📈 New Price Update\n"
     ]
    },
    {
     "data": {
      "text/plain": [
       "Price   Ticker\n",
       "Open    AAPL      201.639999\n",
       "High    AAPL      201.639999\n",
       "Low     AAPL      201.639999\n",
       "Close   AAPL      201.639999\n",
       "Volume  AAPL        0.000000\n",
       "Name: 2025-04-03 19:41:00+00:00, dtype: float64"
      ]
     },
     "metadata": {},
     "output_type": "display_data"
    },
    {
     "ename": "KeyboardInterrupt",
     "evalue": "",
     "output_type": "error",
     "traceback": [
      "\u001b[0;31m---------------------------------------------------------------------------\u001b[0m",
      "\u001b[0;31mKeyboardInterrupt\u001b[0m                         Traceback (most recent call last)",
      "Cell \u001b[0;32mIn[10], line 14\u001b[0m\n\u001b[1;32m      6\u001b[0m stream \u001b[38;5;241m=\u001b[39m get_stream(\n\u001b[1;32m      7\u001b[0m     source_type\u001b[38;5;241m=\u001b[39m\u001b[38;5;124m\"\u001b[39m\u001b[38;5;124mapi\u001b[39m\u001b[38;5;124m\"\u001b[39m,\n\u001b[1;32m      8\u001b[0m     fetch_fn\u001b[38;5;241m=\u001b[39m\u001b[38;5;28;01mlambda\u001b[39;00m: fetch_latest_price(\u001b[38;5;124m\"\u001b[39m\u001b[38;5;124mAAPL\u001b[39m\u001b[38;5;124m\"\u001b[39m, interval\u001b[38;5;241m=\u001b[39m\u001b[38;5;124m\"\u001b[39m\u001b[38;5;124m1m\u001b[39m\u001b[38;5;124m\"\u001b[39m),\n\u001b[1;32m      9\u001b[0m     polling_interval\u001b[38;5;241m=\u001b[39m\u001b[38;5;241m60\u001b[39m  \u001b[38;5;66;03m# poll every 60 seconds\u001b[39;00m\n\u001b[1;32m     10\u001b[0m )\n\u001b[1;32m     12\u001b[0m \u001b[38;5;28;01mfrom\u001b[39;00m \u001b[38;5;21;01mIPython\u001b[39;00m\u001b[38;5;21;01m.\u001b[39;00m\u001b[38;5;21;01mdisplay\u001b[39;00m \u001b[38;5;28;01mimport\u001b[39;00m clear_output, display\n\u001b[0;32m---> 14\u001b[0m \u001b[38;5;28;01mfor\u001b[39;00m row \u001b[38;5;129;01min\u001b[39;00m stream:\n\u001b[1;32m     15\u001b[0m     clear_output(wait\u001b[38;5;241m=\u001b[39m\u001b[38;5;28;01mTrue\u001b[39;00m)\n\u001b[1;32m     16\u001b[0m     \u001b[38;5;28mprint\u001b[39m(\u001b[38;5;124m\"\u001b[39m\u001b[38;5;124m📈 New Price Update\u001b[39m\u001b[38;5;124m\"\u001b[39m)\n",
      "File \u001b[0;32m~/stream-forecasting-DAFE/stream/api_stream.py:27\u001b[0m, in \u001b[0;36mAPIPollingStream.stream\u001b[0;34m(self)\u001b[0m\n\u001b[1;32m     25\u001b[0m         \u001b[38;5;28mself\u001b[39m\u001b[38;5;241m.\u001b[39mseen\u001b[38;5;241m.\u001b[39madd(ts)\n\u001b[1;32m     26\u001b[0m         \u001b[38;5;28;01myield\u001b[39;00m row\n\u001b[0;32m---> 27\u001b[0m \u001b[43mtime\u001b[49m\u001b[38;5;241;43m.\u001b[39;49m\u001b[43msleep\u001b[49m\u001b[43m(\u001b[49m\u001b[38;5;28;43mself\u001b[39;49m\u001b[38;5;241;43m.\u001b[39;49m\u001b[43mpolling_interval\u001b[49m\u001b[43m)\u001b[49m\n",
      "\u001b[0;31mKeyboardInterrupt\u001b[0m: "
     ]
    }
   ],
   "source": [
    "!pip install yfinance\n",
    "\n",
    "from stream.stream_manager import get_stream\n",
    "from utils.helpers import fetch_latest_price  \n",
    "\n",
    "stream = get_stream(\n",
    "    source_type=\"api\",\n",
    "    fetch_fn=lambda: fetch_latest_price(\"AAPL\", interval=\"1m\"),\n",
    "    polling_interval=60  # poll every 60 seconds\n",
    ")\n",
    "\n",
    "from IPython.display import clear_output, display\n",
    "\n",
    "for row in stream:\n",
    "    clear_output(wait=True)\n",
    "    print(\"📈 New Price Update\")\n",
    "    display(row[[\"Open\", \"High\", \"Low\", \"Close\", \"Volume\"]])\n"
   ]
  },
  {
   "cell_type": "code",
   "execution_count": 20,
   "id": "f08f11a3",
   "metadata": {},
   "outputs": [
    {
     "ename": "KeyError",
     "evalue": "'PRC'",
     "output_type": "error",
     "traceback": [
      "\u001b[0;31m---------------------------------------------------------------------------\u001b[0m",
      "\u001b[0;31mKeyError\u001b[0m                                  Traceback (most recent call last)",
      "File \u001b[0;32m/opt/conda/lib/python3.10/site-packages/pandas/core/indexes/base.py:3653\u001b[0m, in \u001b[0;36mIndex.get_loc\u001b[0;34m(self, key)\u001b[0m\n\u001b[1;32m   3652\u001b[0m \u001b[38;5;28;01mtry\u001b[39;00m:\n\u001b[0;32m-> 3653\u001b[0m     \u001b[38;5;28;01mreturn\u001b[39;00m \u001b[38;5;28;43mself\u001b[39;49m\u001b[38;5;241;43m.\u001b[39;49m\u001b[43m_engine\u001b[49m\u001b[38;5;241;43m.\u001b[39;49m\u001b[43mget_loc\u001b[49m\u001b[43m(\u001b[49m\u001b[43mcasted_key\u001b[49m\u001b[43m)\u001b[49m\n\u001b[1;32m   3654\u001b[0m \u001b[38;5;28;01mexcept\u001b[39;00m \u001b[38;5;167;01mKeyError\u001b[39;00m \u001b[38;5;28;01mas\u001b[39;00m err:\n",
      "File \u001b[0;32m/opt/conda/lib/python3.10/site-packages/pandas/_libs/index.pyx:147\u001b[0m, in \u001b[0;36mpandas._libs.index.IndexEngine.get_loc\u001b[0;34m()\u001b[0m\n",
      "File \u001b[0;32m/opt/conda/lib/python3.10/site-packages/pandas/_libs/index.pyx:176\u001b[0m, in \u001b[0;36mpandas._libs.index.IndexEngine.get_loc\u001b[0;34m()\u001b[0m\n",
      "File \u001b[0;32mpandas/_libs/hashtable_class_helper.pxi:7080\u001b[0m, in \u001b[0;36mpandas._libs.hashtable.PyObjectHashTable.get_item\u001b[0;34m()\u001b[0m\n",
      "File \u001b[0;32mpandas/_libs/hashtable_class_helper.pxi:7088\u001b[0m, in \u001b[0;36mpandas._libs.hashtable.PyObjectHashTable.get_item\u001b[0;34m()\u001b[0m\n",
      "\u001b[0;31mKeyError\u001b[0m: 'PRC'",
      "\nThe above exception was the direct cause of the following exception:\n",
      "\u001b[0;31mKeyError\u001b[0m                                  Traceback (most recent call last)",
      "Cell \u001b[0;32mIn[20], line 25\u001b[0m\n\u001b[1;32m     22\u001b[0m clear_output(wait\u001b[38;5;241m=\u001b[39m\u001b[38;5;28;01mTrue\u001b[39;00m)\n\u001b[1;32m     24\u001b[0m \u001b[38;5;66;03m# Use 'PRC' as the price column\u001b[39;00m\n\u001b[0;32m---> 25\u001b[0m price \u001b[38;5;241m=\u001b[39m \u001b[43mrow\u001b[49m\u001b[43m[\u001b[49m\u001b[38;5;124;43m\"\u001b[39;49m\u001b[38;5;124;43mPRC\u001b[39;49m\u001b[38;5;124;43m\"\u001b[39;49m\u001b[43m]\u001b[49m\n\u001b[1;32m     26\u001b[0m W_curr\u001b[38;5;241m.\u001b[39mappend(price)\n\u001b[1;32m     28\u001b[0m \u001b[38;5;28;01mif\u001b[39;00m \u001b[38;5;28mlen\u001b[39m(W_ref) \u001b[38;5;241m<\u001b[39m ref_window_size:\n",
      "File \u001b[0;32m/opt/conda/lib/python3.10/site-packages/pandas/core/series.py:1007\u001b[0m, in \u001b[0;36mSeries.__getitem__\u001b[0;34m(self, key)\u001b[0m\n\u001b[1;32m   1004\u001b[0m     \u001b[38;5;28;01mreturn\u001b[39;00m \u001b[38;5;28mself\u001b[39m\u001b[38;5;241m.\u001b[39m_values[key]\n\u001b[1;32m   1006\u001b[0m \u001b[38;5;28;01melif\u001b[39;00m key_is_scalar:\n\u001b[0;32m-> 1007\u001b[0m     \u001b[38;5;28;01mreturn\u001b[39;00m \u001b[38;5;28;43mself\u001b[39;49m\u001b[38;5;241;43m.\u001b[39;49m\u001b[43m_get_value\u001b[49m\u001b[43m(\u001b[49m\u001b[43mkey\u001b[49m\u001b[43m)\u001b[49m\n\u001b[1;32m   1009\u001b[0m \u001b[38;5;28;01mif\u001b[39;00m is_hashable(key):\n\u001b[1;32m   1010\u001b[0m     \u001b[38;5;66;03m# Otherwise index.get_value will raise InvalidIndexError\u001b[39;00m\n\u001b[1;32m   1011\u001b[0m     \u001b[38;5;28;01mtry\u001b[39;00m:\n\u001b[1;32m   1012\u001b[0m         \u001b[38;5;66;03m# For labels that don't resolve as scalars like tuples and frozensets\u001b[39;00m\n",
      "File \u001b[0;32m/opt/conda/lib/python3.10/site-packages/pandas/core/series.py:1116\u001b[0m, in \u001b[0;36mSeries._get_value\u001b[0;34m(self, label, takeable)\u001b[0m\n\u001b[1;32m   1113\u001b[0m     \u001b[38;5;28;01mreturn\u001b[39;00m \u001b[38;5;28mself\u001b[39m\u001b[38;5;241m.\u001b[39m_values[label]\n\u001b[1;32m   1115\u001b[0m \u001b[38;5;66;03m# Similar to Index.get_value, but we do not fall back to positional\u001b[39;00m\n\u001b[0;32m-> 1116\u001b[0m loc \u001b[38;5;241m=\u001b[39m \u001b[38;5;28;43mself\u001b[39;49m\u001b[38;5;241;43m.\u001b[39;49m\u001b[43mindex\u001b[49m\u001b[38;5;241;43m.\u001b[39;49m\u001b[43mget_loc\u001b[49m\u001b[43m(\u001b[49m\u001b[43mlabel\u001b[49m\u001b[43m)\u001b[49m\n\u001b[1;32m   1118\u001b[0m \u001b[38;5;28;01mif\u001b[39;00m is_integer(loc):\n\u001b[1;32m   1119\u001b[0m     \u001b[38;5;28;01mreturn\u001b[39;00m \u001b[38;5;28mself\u001b[39m\u001b[38;5;241m.\u001b[39m_values[loc]\n",
      "File \u001b[0;32m/opt/conda/lib/python3.10/site-packages/pandas/core/indexes/multi.py:2812\u001b[0m, in \u001b[0;36mMultiIndex.get_loc\u001b[0;34m(self, key)\u001b[0m\n\u001b[1;32m   2809\u001b[0m     \u001b[38;5;28;01mreturn\u001b[39;00m mask\n\u001b[1;32m   2811\u001b[0m \u001b[38;5;28;01mif\u001b[39;00m \u001b[38;5;129;01mnot\u001b[39;00m \u001b[38;5;28misinstance\u001b[39m(key, \u001b[38;5;28mtuple\u001b[39m):\n\u001b[0;32m-> 2812\u001b[0m     loc \u001b[38;5;241m=\u001b[39m \u001b[38;5;28;43mself\u001b[39;49m\u001b[38;5;241;43m.\u001b[39;49m\u001b[43m_get_level_indexer\u001b[49m\u001b[43m(\u001b[49m\u001b[43mkey\u001b[49m\u001b[43m,\u001b[49m\u001b[43m \u001b[49m\u001b[43mlevel\u001b[49m\u001b[38;5;241;43m=\u001b[39;49m\u001b[38;5;241;43m0\u001b[39;49m\u001b[43m)\u001b[49m\n\u001b[1;32m   2813\u001b[0m     \u001b[38;5;28;01mreturn\u001b[39;00m _maybe_to_slice(loc)\n\u001b[1;32m   2815\u001b[0m keylen \u001b[38;5;241m=\u001b[39m \u001b[38;5;28mlen\u001b[39m(key)\n",
      "File \u001b[0;32m/opt/conda/lib/python3.10/site-packages/pandas/core/indexes/multi.py:3160\u001b[0m, in \u001b[0;36mMultiIndex._get_level_indexer\u001b[0;34m(self, key, level, indexer)\u001b[0m\n\u001b[1;32m   3157\u001b[0m         \u001b[38;5;28;01mreturn\u001b[39;00m \u001b[38;5;28mslice\u001b[39m(i, j, step)\n\u001b[1;32m   3159\u001b[0m \u001b[38;5;28;01melse\u001b[39;00m:\n\u001b[0;32m-> 3160\u001b[0m     idx \u001b[38;5;241m=\u001b[39m \u001b[38;5;28;43mself\u001b[39;49m\u001b[38;5;241;43m.\u001b[39;49m\u001b[43m_get_loc_single_level_index\u001b[49m\u001b[43m(\u001b[49m\u001b[43mlevel_index\u001b[49m\u001b[43m,\u001b[49m\u001b[43m \u001b[49m\u001b[43mkey\u001b[49m\u001b[43m)\u001b[49m\n\u001b[1;32m   3162\u001b[0m     \u001b[38;5;28;01mif\u001b[39;00m level \u001b[38;5;241m>\u001b[39m \u001b[38;5;241m0\u001b[39m \u001b[38;5;129;01mor\u001b[39;00m \u001b[38;5;28mself\u001b[39m\u001b[38;5;241m.\u001b[39m_lexsort_depth \u001b[38;5;241m==\u001b[39m \u001b[38;5;241m0\u001b[39m:\n\u001b[1;32m   3163\u001b[0m         \u001b[38;5;66;03m# Desired level is not sorted\u001b[39;00m\n\u001b[1;32m   3164\u001b[0m         \u001b[38;5;28;01mif\u001b[39;00m \u001b[38;5;28misinstance\u001b[39m(idx, \u001b[38;5;28mslice\u001b[39m):\n\u001b[1;32m   3165\u001b[0m             \u001b[38;5;66;03m# test_get_loc_partial_timestamp_multiindex\u001b[39;00m\n",
      "File \u001b[0;32m/opt/conda/lib/python3.10/site-packages/pandas/core/indexes/multi.py:2752\u001b[0m, in \u001b[0;36mMultiIndex._get_loc_single_level_index\u001b[0;34m(self, level_index, key)\u001b[0m\n\u001b[1;32m   2750\u001b[0m     \u001b[38;5;28;01mreturn\u001b[39;00m \u001b[38;5;241m-\u001b[39m\u001b[38;5;241m1\u001b[39m\n\u001b[1;32m   2751\u001b[0m \u001b[38;5;28;01melse\u001b[39;00m:\n\u001b[0;32m-> 2752\u001b[0m     \u001b[38;5;28;01mreturn\u001b[39;00m \u001b[43mlevel_index\u001b[49m\u001b[38;5;241;43m.\u001b[39;49m\u001b[43mget_loc\u001b[49m\u001b[43m(\u001b[49m\u001b[43mkey\u001b[49m\u001b[43m)\u001b[49m\n",
      "File \u001b[0;32m/opt/conda/lib/python3.10/site-packages/pandas/core/indexes/base.py:3655\u001b[0m, in \u001b[0;36mIndex.get_loc\u001b[0;34m(self, key)\u001b[0m\n\u001b[1;32m   3653\u001b[0m     \u001b[38;5;28;01mreturn\u001b[39;00m \u001b[38;5;28mself\u001b[39m\u001b[38;5;241m.\u001b[39m_engine\u001b[38;5;241m.\u001b[39mget_loc(casted_key)\n\u001b[1;32m   3654\u001b[0m \u001b[38;5;28;01mexcept\u001b[39;00m \u001b[38;5;167;01mKeyError\u001b[39;00m \u001b[38;5;28;01mas\u001b[39;00m err:\n\u001b[0;32m-> 3655\u001b[0m     \u001b[38;5;28;01mraise\u001b[39;00m \u001b[38;5;167;01mKeyError\u001b[39;00m(key) \u001b[38;5;28;01mfrom\u001b[39;00m \u001b[38;5;21;01merr\u001b[39;00m\n\u001b[1;32m   3656\u001b[0m \u001b[38;5;28;01mexcept\u001b[39;00m \u001b[38;5;167;01mTypeError\u001b[39;00m:\n\u001b[1;32m   3657\u001b[0m     \u001b[38;5;66;03m# If we have a listlike key, _check_indexing_error will raise\u001b[39;00m\n\u001b[1;32m   3658\u001b[0m     \u001b[38;5;66;03m#  InvalidIndexError. Otherwise we fall through and re-raise\u001b[39;00m\n\u001b[1;32m   3659\u001b[0m     \u001b[38;5;66;03m#  the TypeError.\u001b[39;00m\n\u001b[1;32m   3660\u001b[0m     \u001b[38;5;28mself\u001b[39m\u001b[38;5;241m.\u001b[39m_check_indexing_error(key)\n",
      "\u001b[0;31mKeyError\u001b[0m: 'PRC'"
     ]
    }
   ],
   "source": [
    "import time\n",
    "from collections import deque\n",
    "from IPython.display import clear_output, display\n",
    "from stream.stream_manager import get_stream\n",
    "from utils.helpers import fetch_latest_price  # Your helper for yfinance API\n",
    "from drift.kl_divergence import detect_drift_kl  # KL divergence function\n",
    "\n",
    "# Get the live API stream (or simulated, if desired)\n",
    "stream = get_stream(\n",
    "    source_type=\"api\",\n",
    "    fetch_fn=lambda: fetch_latest_price(\"AAPL\", interval=\"1m\"),\n",
    "    polling_interval=60\n",
    ")\n",
    "\n",
    "ref_window_size = 5 \n",
    "curr_window_size = 2  \n",
    "\n",
    "W_ref = deque(maxlen=ref_window_size)\n",
    "W_curr = deque(maxlen=curr_window_size)\n",
    "\n",
    "for row in stream:\n",
    "    clear_output(wait=True)\n",
    "\n",
    "    close_price = row[\"Close\"]\n",
    "    \n",
    "    W_curr.append(close_price)\n",
    "\n",
    "    if len(W_ref) < ref_window_size:\n",
    "        W_ref.append(close_price)\n",
    "        print(\"Building reference window...\")\n",
    "        display(row[[\"Open\", \"High\", \"Low\", \"Close\", \"Volume\"]])\n",
    "        continue\n",
    "\n",
    "    if len(W_curr) == curr_window_size:\n",
    "        drift, kl_score = detect_drift_kl(\n",
    "            list(W_curr),\n",
    "            list(W_ref),\n",
    "            bins=10,          \n",
    "            threshold=0.1     \n",
    "        )\n",
    "        if drift:\n",
    "            print(f\"🚨 Drift detected! KL divergence: {kl_score:.4f}\")\n",
    "        else:\n",
    "            print(f\"No drift detected. KL divergence: {kl_score:.4f}\")\n",
    "        \n",
    "        \n",
    "        display(row[[\"Open\", \"High\", \"Low\", \"Close\", \"Volume\"]])\n",
    "        \n",
    "\n",
    "        W_ref.clear()\n",
    "        W_ref.extend(W_curr)\n",
    "        W_curr.clear()\n",
    "    \n",
    "    time.sleep(0.1)  \n"
   ]
  },
  {
   "cell_type": "code",
   "execution_count": 34,
   "id": "5a275082",
   "metadata": {},
   "outputs": [
    {
     "name": "stdout",
     "output_type": "stream",
     "text": [
      "🟢 Ticker: AAPL\n",
      "KL divergence: 0.5731 => Drift type: gradual\n",
      "JS divergence: 0.1323 => Drift type: stable\n",
      "Hellinger distance: 0.3783 => Drift type: stable\n"
     ]
    },
    {
     "ename": "KeyboardInterrupt",
     "evalue": "",
     "output_type": "error",
     "traceback": [
      "\u001b[0;31m---------------------------------------------------------------------------\u001b[0m",
      "\u001b[0;31mKeyboardInterrupt\u001b[0m                         Traceback (most recent call last)",
      "Cell \u001b[0;32mIn[34], line 67\u001b[0m\n\u001b[1;32m     64\u001b[0m     W_ref\u001b[38;5;241m.\u001b[39mextend(W_curr)\n\u001b[1;32m     65\u001b[0m     W_curr\u001b[38;5;241m.\u001b[39mclear()\n\u001b[0;32m---> 67\u001b[0m \u001b[43mtime\u001b[49m\u001b[38;5;241;43m.\u001b[39;49m\u001b[43msleep\u001b[49m\u001b[43m(\u001b[49m\u001b[38;5;241;43m0.5\u001b[39;49m\u001b[43m)\u001b[49m  \n",
      "\u001b[0;31mKeyboardInterrupt\u001b[0m: "
     ]
    }
   ],
   "source": [
    "import time\n",
    "from collections import deque\n",
    "from IPython.display import clear_output, display\n",
    "from stream.stream_manager import get_stream\n",
    "from utils.helpers import fetch_latest_price\n",
    "from drift.divergence import kl_divergence_from_samples,jensen_shannon_divergence_from_samples,hellinger_distance_from_samples,categorize_drift\n",
    "\n",
    "\n",
    "#stream = get_stream(\n",
    "    #source_type=\"api\",\n",
    "    #fetch_fn=lambda: fetch_latest_price(\"AAPL\", interval=\"1m\"),\n",
    "    #polling_interval=60  \n",
    "#)\n",
    "df = pd.read_csv(\"../data/SampleCRSPData.csv\")\n",
    "\n",
    "# Step 2: Preprocess into 5-day batches per TICKER\n",
    "batches = create_ticker_batches(df, batch_days=5)\n",
    "df_batches = pd.DataFrame(batches)\n",
    "stream = get_stream(source_type=\"simulated\", df=df_batches, delay=5)\n",
    "\n",
    "\n",
    "\n",
    "ref_window_size = 5  \n",
    "curr_window_size = 3\n",
    "\n",
    "W_ref = deque(maxlen=ref_window_size)\n",
    "W_curr = deque(maxlen=curr_window_size)\n",
    "\n",
    "for batch in stream:\n",
    "    clear_output(wait=True)\n",
    "    print(f\"🟢 Ticker: {batch['ticker']}\")\n",
    "\n",
    "    volume = batch['data'][\"VOL\"]\n",
    "    \n",
    "\n",
    "    W_curr.append(volume)\n",
    "    \n",
    "    if len(W_ref) < ref_window_size:\n",
    "        W_ref.append(volume)\n",
    "        print(\"Building reference window...\")\n",
    "        display(batch['data'][[\"date\", \"VOL\"]])\n",
    "        continue\n",
    "\n",
    "    if len(W_curr) == curr_window_size:\n",
    "        kl_score = kl_divergence_from_samples(list(W_curr), list(W_ref), bins=10)\n",
    "        js_score = jensen_shannon_divergence_from_samples(list(W_curr), list(W_ref), bins=10)\n",
    "        hellinger_score = hellinger_distance_from_samples(list(W_curr), list(W_ref), bins=10)\n",
    "    \n",
    "        drift_kl = categorize_drift(kl_score, method='kl')\n",
    "        drift_js = categorize_drift(js_score, method='js')\n",
    "        drift_hellinger = categorize_drift(hellinger_score, method='hellinger')\n",
    "    \n",
    "        print(f\"KL divergence: {kl_score:.4f} => Drift type: {drift_kl}\")\n",
    "        print(f\"JS divergence: {js_score:.4f} => Drift type: {drift_js}\")\n",
    "        print(f\"Hellinger distance: {hellinger_score:.4f} => Drift type: {drift_hellinger}\")\n",
    "\n",
    "\n",
    "        \n",
    "        W_ref.clear()\n",
    "        W_ref.extend(W_curr)\n",
    "        W_curr.clear()\n",
    "    \n",
    "    time.sleep(0.5)  \n"
   ]
  },
  {
   "cell_type": "code",
   "execution_count": 27,
   "id": "6e743dc5",
   "metadata": {},
   "outputs": [
    {
     "name": "stdout",
     "output_type": "stream",
     "text": [
      "['PERMNO', 'date', 'TICKER', 'COMNAM', 'ASKHI', 'PRC', 'VOL', 'RET', 'SHROUT', 'NUMTRD', 'RETX']\n"
     ]
    }
   ],
   "source": [
    "print(df.columns.tolist())\n"
   ]
  },
  {
   "cell_type": "code",
   "execution_count": 28,
   "id": "2ed3d8ed",
   "metadata": {},
   "outputs": [
    {
     "name": "stdout",
     "output_type": "stream",
     "text": [
      "['PERMNO', 'date', 'TICKER', 'COMNAM', 'ASKHI', 'PRC', 'VOL', 'RET', 'SHROUT', 'NUMTRD', 'RETX']\n"
     ]
    }
   ],
   "source": [
    "print(batches[0][\"data\"].columns.tolist())\n"
   ]
  },
  {
   "cell_type": "code",
   "execution_count": 35,
   "id": "c658b989",
   "metadata": {},
   "outputs": [
    {
     "name": "stdout",
     "output_type": "stream",
     "text": [
      "🟢 Ticker: AAPL\n",
      "KL divergence: 1.0601 => Drift type: abrupt\n",
      "JS divergence: 0.2934 => Drift type: stable\n",
      "Hellinger distance: 0.6236 => Drift type: gradual\n"
     ]
    },
    {
     "data": {
      "text/html": [
       "<div>\n",
       "<style scoped>\n",
       "    .dataframe tbody tr th:only-of-type {\n",
       "        vertical-align: middle;\n",
       "    }\n",
       "\n",
       "    .dataframe tbody tr th {\n",
       "        vertical-align: top;\n",
       "    }\n",
       "\n",
       "    .dataframe thead th {\n",
       "        text-align: right;\n",
       "    }\n",
       "</style>\n",
       "<table border=\"1\" class=\"dataframe\">\n",
       "  <thead>\n",
       "    <tr style=\"text-align: right;\">\n",
       "      <th></th>\n",
       "      <th>date</th>\n",
       "      <th>PRC</th>\n",
       "      <th>VOL</th>\n",
       "    </tr>\n",
       "  </thead>\n",
       "  <tbody>\n",
       "    <tr>\n",
       "      <th>0</th>\n",
       "      <td>2010-11-12</td>\n",
       "      <td>308.03000</td>\n",
       "      <td>29405801</td>\n",
       "    </tr>\n",
       "    <tr>\n",
       "      <th>1</th>\n",
       "      <td>2010-11-15</td>\n",
       "      <td>307.03500</td>\n",
       "      <td>15057055</td>\n",
       "    </tr>\n",
       "    <tr>\n",
       "      <th>2</th>\n",
       "      <td>2010-11-16</td>\n",
       "      <td>301.59000</td>\n",
       "      <td>24340322</td>\n",
       "    </tr>\n",
       "    <tr>\n",
       "      <th>3</th>\n",
       "      <td>2010-11-17</td>\n",
       "      <td>300.50000</td>\n",
       "      <td>17841578</td>\n",
       "    </tr>\n",
       "    <tr>\n",
       "      <th>4</th>\n",
       "      <td>2010-11-18</td>\n",
       "      <td>308.42999</td>\n",
       "      <td>18422776</td>\n",
       "    </tr>\n",
       "  </tbody>\n",
       "</table>\n",
       "</div>"
      ],
      "text/plain": [
       "        date        PRC       VOL\n",
       "0 2010-11-12  308.03000  29405801\n",
       "1 2010-11-15  307.03500  15057055\n",
       "2 2010-11-16  301.59000  24340322\n",
       "3 2010-11-17  300.50000  17841578\n",
       "4 2010-11-18  308.42999  18422776"
      ]
     },
     "metadata": {},
     "output_type": "display_data"
    },
    {
     "ename": "KeyboardInterrupt",
     "evalue": "",
     "output_type": "error",
     "traceback": [
      "\u001b[0;31m---------------------------------------------------------------------------\u001b[0m",
      "\u001b[0;31mKeyboardInterrupt\u001b[0m                         Traceback (most recent call last)",
      "Cell \u001b[0;32mIn[35], line 40\u001b[0m\n\u001b[1;32m     35\u001b[0m W_curr \u001b[38;5;241m=\u001b[39m deque(maxlen\u001b[38;5;241m=\u001b[39mcurr_window_size)\n\u001b[1;32m     37\u001b[0m \u001b[38;5;66;03m# ------------------------------\u001b[39;00m\n\u001b[1;32m     38\u001b[0m \u001b[38;5;66;03m# Step 4: Drift detection loop using simulated stream\u001b[39;00m\n\u001b[1;32m     39\u001b[0m \u001b[38;5;66;03m# ------------------------------\u001b[39;00m\n\u001b[0;32m---> 40\u001b[0m \u001b[38;5;28;01mfor\u001b[39;00m batch \u001b[38;5;129;01min\u001b[39;00m stream:\n\u001b[1;32m     41\u001b[0m     clear_output(wait\u001b[38;5;241m=\u001b[39m\u001b[38;5;28;01mTrue\u001b[39;00m)\n\u001b[1;32m     42\u001b[0m     \u001b[38;5;28mprint\u001b[39m(\u001b[38;5;124mf\u001b[39m\u001b[38;5;124m\"\u001b[39m\u001b[38;5;124m🟢 Ticker: \u001b[39m\u001b[38;5;132;01m{\u001b[39;00mbatch[\u001b[38;5;124m'\u001b[39m\u001b[38;5;124mticker\u001b[39m\u001b[38;5;124m'\u001b[39m]\u001b[38;5;132;01m}\u001b[39;00m\u001b[38;5;124m\"\u001b[39m)\n",
      "File \u001b[0;32m~/stream-forecasting-DAFE/stream/simulated_stream.py:17\u001b[0m, in \u001b[0;36mSimulatedStream.stream\u001b[0;34m(self)\u001b[0m\n\u001b[1;32m     15\u001b[0m \u001b[38;5;28;01myield\u001b[39;00m row  \u001b[38;5;66;03m# row is a pandas Series (row of features)\u001b[39;00m\n\u001b[1;32m     16\u001b[0m \u001b[38;5;28;01mif\u001b[39;00m \u001b[38;5;28mself\u001b[39m\u001b[38;5;241m.\u001b[39mdelay \u001b[38;5;241m>\u001b[39m \u001b[38;5;241m0\u001b[39m:\n\u001b[0;32m---> 17\u001b[0m     \u001b[43mtime\u001b[49m\u001b[38;5;241;43m.\u001b[39;49m\u001b[43msleep\u001b[49m\u001b[43m(\u001b[49m\u001b[38;5;28;43mself\u001b[39;49m\u001b[38;5;241;43m.\u001b[39;49m\u001b[43mdelay\u001b[49m\u001b[43m)\u001b[49m\n",
      "\u001b[0;31mKeyboardInterrupt\u001b[0m: "
     ]
    }
   ],
   "source": [
    "import time\n",
    "from collections import deque\n",
    "from IPython.display import clear_output, display\n",
    "from stream.stream_manager import get_stream\n",
    "from utils.helpers import create_ticker_batches\n",
    "from drift.divergence import (\n",
    "    kl_divergence_from_samples,\n",
    "    jensen_shannon_divergence_from_samples,\n",
    "    hellinger_distance_from_samples,\n",
    "    categorize_drift\n",
    ")\n",
    "\n",
    "df = pd.read_csv(\"../data/SampleCRSPData.csv\")\n",
    "\n",
    "batches = create_ticker_batches(df, batch_days=5)\n",
    "df_batches = pd.DataFrame(batches)\n",
    "\n",
    "stream = get_stream(source_type=\"simulated\", df=df_batches, delay=2)\n",
    "\n",
    "ref_window_size = 10\n",
    "curr_window_size = 2\n",
    "\n",
    "W_ref = deque(maxlen=ref_window_size)\n",
    "W_curr = deque(maxlen=curr_window_size)\n",
    "\n",
    "\n",
    "for batch in stream:\n",
    "    clear_output(wait=True)\n",
    "    print(f\"🟢 Ticker: {batch['ticker']}\")\n",
    "    \n",
    "    price_series = batch['data'][\"PRC\"]\n",
    "    value = price_series.mean() if hasattr(price_series, 'mean') else price_series\n",
    "    \n",
    "    W_curr.append(value)\n",
    "\n",
    "    if len(W_ref) < ref_window_size:\n",
    "        W_ref.append(value)\n",
    "        print(\"Building reference window...\")\n",
    "        display(batch['data'][[\"date\", \"PRC\", \"VOL\"]])\n",
    "        continue\n",
    "\n",
    "    if len(W_curr) == curr_window_size:\n",
    "        kl_score = kl_divergence_from_samples(list(W_curr), list(W_ref), bins=10)\n",
    "        js_score = jensen_shannon_divergence_from_samples(list(W_curr), list(W_ref), bins=10)\n",
    "        hellinger_score = hellinger_distance_from_samples(list(W_curr), list(W_ref), bins=10)\n",
    "    \n",
    "        drift_kl = categorize_drift(kl_score, method='kl')\n",
    "        drift_js = categorize_drift(js_score, method='js')\n",
    "        drift_hellinger = categorize_drift(hellinger_score, method='hellinger')\n",
    "    \n",
    "        print(f\"KL divergence: {kl_score:.4f} => Drift type: {drift_kl}\")\n",
    "        print(f\"JS divergence: {js_score:.4f} => Drift type: {drift_js}\")\n",
    "        print(f\"Hellinger distance: {hellinger_score:.4f} => Drift type: {drift_hellinger}\")\n",
    "    \n",
    "        display(batch['data'][[\"date\", \"PRC\", \"VOL\"]])\n",
    "        \n",
    "        for sample in list(W_curr):\n",
    "            W_ref.append(sample)\n",
    "\n",
    "        W_curr.clear()\n",
    "    \n",
    "    time.sleep(0.5)\n"
   ]
  },
  {
   "cell_type": "code",
   "execution_count": null,
   "id": "b7b34d6f",
   "metadata": {},
   "outputs": [],
   "source": []
  }
 ],
 "metadata": {
  "kernelspec": {
   "display_name": "Python 3",
   "language": "python",
   "name": "python3"
  },
  "language_info": {
   "codemirror_mode": {
    "name": "ipython",
    "version": 3
   },
   "file_extension": ".py",
   "mimetype": "text/x-python",
   "name": "python",
   "nbconvert_exporter": "python",
   "pygments_lexer": "ipython3",
   "version": "3.10.15"
  }
 },
 "nbformat": 4,
 "nbformat_minor": 5
}
